{
 "cells": [
  {
   "cell_type": "markdown",
   "metadata": {},
   "source": [
    "# Esto es un Jupyter Notebook, te permite seccionar el código de Python por partes llamadas celdas o agregar comentarios en otro formato llamado Markdown "
   ]
  },
  {
   "cell_type": "markdown",
   "metadata": {},
   "source": [
    "## Te estarás preguntando ¿Cómo y donde se escribe esto?\n",
    "## Para Tutoriales y trabajos de investigación de Python el medio es un Notebook, por ahora no es necesario saber como crearlo pero puedes usar este para experimentar con el código\n",
    "## Hay varias formas de escribir e interpretar Python:\n",
    "## Se puede escribir en un notepad, textEdit, notebook, consola, etc pero debe terminar en .py y debes tener un interpretador de python en tu máquina ya sea como command line tool o como programa ejecutable."
   ]
  },
  {
   "cell_type": "markdown",
   "metadata": {},
   "source": [
    "## Puedes seguir este getting started de Python.org:\n",
    "## [getting started](https://www.python.org/about/gettingstarted/)"
   ]
  },
  {
   "cell_type": "markdown",
   "metadata": {},
   "source": [
    "## Puedes continuar sin problema, y revisar el Getting Started después\n",
    "## Intro a programación\n",
    "## los elementos que debes tener de cada lenguaje son:\n",
    "## 1. ¿Cómo y para qué puedo usarlo?\n",
    "## 2. ¿Qué es una variable?\n",
    "## 3. ¿Cómo declarar una variable?\n"
   ]
  },
  {
   "cell_type": "markdown",
   "metadata": {},
   "source": [
    "## Hay una gran variedad de usos para Python: \n",
    "## Desde desarrollo web, aplicaciones para dekstop, investigación científica\n",
    "## juegos, etc:\n",
    "## Algunos de los muchos uso en la página de python:\n",
    "## [Donde se puede usar python ](https://www.python.org/about/apps/)\n",
    "## Aquí dejo un link para una gran variedad de ejemplo\n",
    "## [Notebooks de interés](https://github.com/jupyter/jupyter/wiki/A-gallery-of-interesting-Jupyter-Notebooks)\n",
    "## Específicamente para data análisis:\n",
    "##  [Estadística y Data Science](https://github.com/jupyter/jupyter/wiki/A-gallery-of-interesting-Jupyter-Notebooks#statistics-machine-learning-and-data-science)\n",
    "## Intro a Python y Data science:\n",
    "## [Intro a Programación y Data Science](https://nbviewer.jupyter.org/gist/rpmuller/5920182)"
   ]
  },
  {
   "cell_type": "markdown",
   "metadata": {},
   "source": [
    "## Las variables nos permiten asignarle un nombre como una etiqueta a un valor. Para poder usarla después y no solo al momento de crear el valor\n",
    "## e.g:\n",
    "### Esto :"
   ]
  },
  {
   "cell_type": "code",
   "execution_count": 1,
   "metadata": {},
   "outputs": [
    {
     "ename": "SyntaxError",
     "evalue": "invalid syntax (<ipython-input-1-911988a68188>, line 1)",
     "output_type": "error",
     "traceback": [
      "\u001b[0;36m  File \u001b[0;32m\"<ipython-input-1-911988a68188>\"\u001b[0;36m, line \u001b[0;32m1\u001b[0m\n\u001b[0;31m    20 + 20 // debes usar tu propia memoria si no usas una variable\u001b[0m\n\u001b[0m                        ^\u001b[0m\n\u001b[0;31mSyntaxError\u001b[0m\u001b[0;31m:\u001b[0m invalid syntax\n"
     ]
    }
   ],
   "source": [
    "20 + 20 // debes usar tu propia memoria si no usas una variable\n",
    "40 / 60 // Esta operación no afecta a la anterior porque no hay relación entre ellas"
   ]
  },
  {
   "cell_type": "markdown",
   "metadata": {},
   "source": [
    "### Es Diferente a esto: "
   ]
  },
  {
   "cell_type": "code",
   "execution_count": null,
   "metadata": {},
   "outputs": [],
   "source": [
    "a = 20 // Usas la memoria de la computadora para guardar este valor\n",
    "b = 20 \n",
    "a + b // No tienes que recordar que esto vale 20\n",
    "a = a + b  // Puedes reasignarle valor a esto si quieres\n",
    "b = a + b\n",
    "a / b // "
   ]
  },
  {
   "cell_type": "markdown",
   "metadata": {},
   "source": [
    "Corre el código abajo para ver como funcionar"
   ]
  },
  {
   "cell_type": "markdown",
   "metadata": {},
   "source": [
    "### Para correr el código solo debes hacerle click a la celda y presionar  `Run` ^ en el toolbar o shift + Enter"
   ]
  },
  {
   "cell_type": "code",
   "execution_count": null,
   "metadata": {},
   "outputs": [],
   "source": [
    "hello = \"Hello World\"\n",
    "print(hello) #La función print() te muestra en la consola el valor en texto de esta variable"
   ]
  },
  {
   "cell_type": "markdown",
   "metadata": {},
   "source": [
    "# Como puedes ver, para declarar una variable solo tienes que escribir:\n",
    "## El nombre de tu variable en snake_case es decir las palabras van separadas por un \"_\"\n",
    "## de la siguiente forma:  soy_una_variable \n",
    "## usando un \"=\" (operador de asignación de valor) para asignarle un valor\n",
    "## de la siguiente forma:\n",
    "```python \n",
    "variable = \"Este valor es un String\"\n",
    "variable = 2  <== Esto es un Int\n",
    "variable = 0.2 <== Esto es un Float (Decimal)\n",
    "variable = True <== Esto es un Bool solo puede ser true o false\n",
    "```"
   ]
  },
  {
   "cell_type": "code",
   "execution_count": 2,
   "metadata": {},
   "outputs": [
    {
     "name": "stdout",
     "output_type": "stream",
     "text": [
      "Este valor es un String Este valor es un String \n",
      "<class 'str'>\n",
      "4\n",
      "<class 'int'>\n",
      "0.4\n",
      "<class 'float'>\n",
      "True\n",
      "<class 'bool'>\n"
     ]
    }
   ],
   "source": [
    "# usando numeral o hashtag podemos agregar un comentario, es decir un texto que el interpretador no puede ver\n",
    "# Y lo usamos para describir de ser necesario nuestro código\n",
    "\n",
    "variable = \"Este valor es un String \" # Esto es un String = texto\n",
    "variable = variable + variable # Sumar texto? Se puede agregar un texto a otro usando + \n",
    "print(variable)\n",
    "print(type(variable)) # type() es una función que te permite ver el Type de la variable\n",
    "\n",
    "variable = 2 #Esto es un Int = Un número entero = Un número positivo o negativo sin decimales\n",
    "variable = variable + variable\n",
    "print(variable) # Imprime este valor de variable\n",
    "print(type(variable)) # type() es una función que te permite ver el Type de la variable\n",
    "\n",
    "variable = 0.2 #Esto es un Float (Decimal) = punto Flotante = con Decimas\n",
    "variable = variable + variable\n",
    "print(variable)  # Imprime este valor de variable\n",
    "print(type(variable)) # type() es una función que te permite ver el Type de la variable\n",
    "\n",
    "variable = True #Esto es un Bool solo puede ser true o false\n",
    "print(variable)  # Imprime este valor de variable\n",
    "print(type(variable)) # type() es una función que te permite ver el Type de la variable\n",
    "\n",
    "# Debes tener 3 valores completamente diferentes aquí abajo "
   ]
  },
  {
   "cell_type": "markdown",
   "metadata": {},
   "source": [
    "# Ahora te toca a ti\n",
    "## Escribe variables e imprime su valor:\n",
    "### - Escribe un par de variables cuya suma resulte en 4\n",
    "### - Escribe una variable que contenga tu nombre\n",
    "### - Escribe una variable que diga Hello World\n"
   ]
  },
  {
   "cell_type": "code",
   "execution_count": 3,
   "metadata": {},
   "outputs": [],
   "source": [
    "# Escribe tu código aquí"
   ]
  },
  {
   "cell_type": "markdown",
   "metadata": {},
   "source": [
    "# Operaciones simples\n",
    "## Sumar con +\n",
    "## Restar con -\n",
    "## Dividir con /\n",
    "## Multiplicar con *\n",
    "### Prueba cada una"
   ]
  },
  {
   "cell_type": "code",
   "execution_count": null,
   "metadata": {},
   "outputs": [],
   "source": []
  },
  {
   "cell_type": "markdown",
   "metadata": {},
   "source": [
    "# Palabras reservadas:\n",
    "## Hay palabras que no puedes usar en el nombre de tu variable porque el interpretador las usa para saber que debe hacer, que son: \n",
    "### and, as, assert, break, class, continue, def, del, elif, else, except, \n",
    "### exec, finally, for, from, global, if, import, in, is, lambda, not, or,\n",
    "### pass, print, raise, return, try, while, with, yield"
   ]
  },
  {
   "cell_type": "code",
   "execution_count": 4,
   "metadata": {},
   "outputs": [],
   "source": [
    "# Intenta declarar una variable con una palabra reservada\n"
   ]
  },
  {
   "cell_type": "markdown",
   "metadata": {},
   "source": [
    "# Lists\n",
    "## Grupos de variables\n",
    "![alt text](Lists.jpeg)\n",
    "\n",
    "### Nos permite guardar una serie de variables dentro de otra variable\n",
    "\n",
    "```python\n",
    "musical_notes_syllabels = [\"do\", \"re\", \"mi\", \"fa\", \"sol\", \"la\", \"ti\"]\n",
    "musical_notes_letters = [\"C\", \"D\", \"E\", \"F\", \"G\", \"A\", \"B\"]\n",
    "musical_notes_Hz_4 = [261.6256, 293.6648, 329.6276, 349.2282, 391.9954, 440.0000, 493.8833]\n",
    "```\n"
   ]
  },
  {
   "cell_type": "code",
   "execution_count": 5,
   "metadata": {},
   "outputs": [],
   "source": [
    "musical_notes_syllabels = [\"do\", \"re\", \"mi\", \"fa\", \"sol\", \"la\", \"ti\"]\n",
    "musical_notes_letters = [\"C\", \"D\", \"E\", \"F\", \"G\", \"A\", \"B\"]\n",
    "musical_notes_Hz_4 = [261.6256, 293.6648, 329.6276, 349.2282, 391.9954, 440.0000, 493.8833]"
   ]
  },
  {
   "cell_type": "markdown",
   "metadata": {},
   "source": [
    "# Pero y si solo quieres el segundo elemento de un List\n",
    "## puedes usar algo que se llama subscript method, quiere decir que es un método sin nombre y se usa con \"[ ]\" de la siguiente forma:\n",
    "```python \n",
    "musical_notes_letters[1]\n",
    "```\n",
    "## Si imprimimos este valor ¿Cuál nota crees que nos regresa?\n",
    "### Exactamente... la segunda 😂\n",
    "### en la mayoría de los lenguajes las listas comienzan con 0\n",
    "### es decir 0 es el primer elemento y 1 el segundo "
   ]
  },
  {
   "cell_type": "code",
   "execution_count": 6,
   "metadata": {},
   "outputs": [
    {
     "name": "stdout",
     "output_type": "stream",
     "text": [
      "D\n"
     ]
    }
   ],
   "source": [
    "print(musical_notes_letters[1])"
   ]
  },
  {
   "cell_type": "markdown",
   "metadata": {},
   "source": [
    "# ¿Y si queremos el último elemento?\n",
    "## ¿Tengo que saber cuántos elementos tiene la lista? \n",
    "### No, se puede acceder al último si le damos la vuelta a la lista hacia atrás\n",
    "### Diciendole al interpretador, quiero el elemento que viene antes de 0, y este te regresa el últmo\n",
    "\n",
    "```python\n",
    "musical_notes_letters[-1]\n",
    "```"
   ]
  },
  {
   "cell_type": "code",
   "execution_count": 7,
   "metadata": {},
   "outputs": [
    {
     "name": "stdout",
     "output_type": "stream",
     "text": [
      "B\n",
      "A\n",
      "G\n"
     ]
    }
   ],
   "source": [
    "print(musical_notes_letters[-1])\n",
    "print(musical_notes_letters[-2])\n",
    "print(musical_notes_letters[-3])"
   ]
  },
  {
   "cell_type": "markdown",
   "metadata": {},
   "source": [
    "# ¿Y si queremos una porción? \n",
    "## Un slice\n",
    "\n",
    "```python\n",
    "pizza = [1,2,3,4,5,6,7,8] # una pizza con 8 porciones\n",
    "````\n",
    "### Pero vi que del 3 al 5 tiene mas pepperoni, así que apartaré esas porciones antes de llevarla a casa "
   ]
  },
  {
   "cell_type": "code",
   "execution_count": 8,
   "metadata": {},
   "outputs": [
    {
     "name": "stdout",
     "output_type": "stream",
     "text": [
      "[1, 2, 3, 4, 5, 6, 7, 8]\n",
      "[3, 4, 5]\n"
     ]
    }
   ],
   "source": [
    "pizza = [1,2,3,4,5,6,7,8] \n",
    "mySlices = pizza[2:5]\n",
    "print(pizza)\n",
    "print(mySlices)"
   ]
  },
  {
   "cell_type": "markdown",
   "metadata": {},
   "source": [
    "Como puedes ver, si queremos una porcioón usamos otro subscript method que tiene esta forma `[límite inferior: límite superior]`\n",
    "El límite inferior es como un escalón en una escalera del cual empiezas a contar, es decir no lo incluimos, pero si el último escalón"
   ]
  },
  {
   "cell_type": "markdown",
   "metadata": {},
   "source": [
    "Tambien podemos usar el último con -1"
   ]
  },
  {
   "cell_type": "code",
   "execution_count": 9,
   "metadata": {},
   "outputs": [
    {
     "name": "stdout",
     "output_type": "stream",
     "text": [
      "[3, 4, 5, 6, 7, 8]\n",
      "[3, 4, 5, 6, 7]\n"
     ]
    }
   ],
   "source": [
    "print(pizza[2:8]) # Si sabemos cuantos elementos tiene podemos simplemente hacer esto\n",
    "print(pizza[2:-1]) # Con este formato nos exluye el límite superior"
   ]
  },
  {
   "cell_type": "code",
   "execution_count": 10,
   "metadata": {},
   "outputs": [
    {
     "data": {
      "text/plain": [
       "8"
      ]
     },
     "execution_count": 10,
     "metadata": {},
     "output_type": "execute_result"
    }
   ],
   "source": [
    "len(pizza) # len() nos dice cuántos elementos contiene esta lista"
   ]
  },
  {
   "cell_type": "code",
   "execution_count": 11,
   "metadata": {},
   "outputs": [
    {
     "name": "stdout",
     "output_type": "stream",
     "text": [
      "[3, 4, 5, 6, 7, 8]\n"
     ]
    }
   ],
   "source": [
    "#Podemos hacer esto\n",
    "print(pizza[2: len(pizza)]) "
   ]
  },
  {
   "cell_type": "markdown",
   "metadata": {},
   "source": [
    "# Vamos a agregarle mas pizza a nuestra pizza"
   ]
  },
  {
   "cell_type": "code",
   "execution_count": 13,
   "metadata": {},
   "outputs": [
    {
     "name": "stdout",
     "output_type": "stream",
     "text": [
      "[1, 2, 3, 4, 5, 6, 7, 8, 9, 'slice', 'slice', 'potato chips', 9, 'slice', 'slice', 'french fries']\n"
     ]
    }
   ],
   "source": [
    "pizza.append(9) # le agrega un valor al final de la lista\n",
    "pizza.append(\"slice\") # Hasta elementos de otro tipo\n",
    "pizza.append(\"slice\")\n",
    "pizza.append(\"french fries\") # Ya se nos fue la mano\n",
    "print(pizza)"
   ]
  },
  {
   "cell_type": "markdown",
   "metadata": {},
   "source": [
    "# Ya suficiente Pizza\n",
    "# Ahora vamos con la verdad\n",
    "![alt text](truth.jpg)"
   ]
  },
  {
   "cell_type": "markdown",
   "metadata": {},
   "source": [
    "## Podemos usar booleanos (al que solo tiene 2 estados como 1 y 0 en binario)\n",
    "## Para hacer argumentos de lógica\n",
    "## Usando preguntas de lógica básica como:\n",
    "## Estas dos cosas son iguales usando : ==\n",
    "## Esto no es igual a esto usando: != \n",
    "## Este número es mayor a este o menor: > , < \n",
    "## Igual o menor, igual o mayor: <= , =>\n"
   ]
  },
  {
   "cell_type": "code",
   "execution_count": 17,
   "metadata": {},
   "outputs": [
    {
     "name": "stdout",
     "output_type": "stream",
     "text": [
      "a == 2 es: True\n",
      "a != b es: True\n",
      "a < b es: True\n",
      "a > b es: False\n",
      "a <= b es: True\n",
      "a >= b es: False\n"
     ]
    }
   ],
   "source": [
    "#Usemos estos operadores\n",
    "a = 2\n",
    "b = 3\n",
    "print('a == 2 es:', a == 2)\n",
    "print('a != b es:',a != b)\n",
    "print('a < b es:', a < b)\n",
    "print('a > b es:',a > b)\n",
    "print('a <= b es:',a <= b)\n",
    "print('a >= b es:', a >= b)"
   ]
  },
  {
   "cell_type": "markdown",
   "metadata": {},
   "source": [
    "# Pero también podemos usarlo como un tipo de variable \n",
    "## usando True o False"
   ]
  },
  {
   "cell_type": "code",
   "execution_count": 19,
   "metadata": {},
   "outputs": [
    {
     "name": "stdout",
     "output_type": "stream",
     "text": [
      "False\n",
      "True\n"
     ]
    }
   ],
   "source": [
    "a = True\n",
    "b = False\n",
    "print(a == b)\n",
    "print(a != b)"
   ]
  },
  {
   "cell_type": "markdown",
   "metadata": {},
   "source": [
    "# También podemos preguntar con AND y OR\n",
    "# And: Quiere decir que si ambas preguntas son verdad, entonces dime True\n",
    "# Or: Quiere decir que si cualquiera de las dos o mas preguntas son verdad, entonces dime True"
   ]
  },
  {
   "cell_type": "code",
   "execution_count": 22,
   "metadata": {},
   "outputs": [
    {
     "name": "stdout",
     "output_type": "stream",
     "text": [
      "False\n",
      "True\n"
     ]
    }
   ],
   "source": [
    "# la usamos de la siguiente manera\n",
    "# usando a y b de la celda anterior ^\n",
    "print(a and b) # Preguntamos si ambos son True entonces pasa la prueba\n",
    "print(a or b)  # Preguntamos si alguno es True entonces pasa la prueba"
   ]
  },
  {
   "cell_type": "markdown",
   "metadata": {},
   "source": [
    "## Otro operador es Not\n",
    "## Es como un doble negativo, si esto no es True entonces dime True\n",
    "## Se usa solo, porque tiene un False implícito como comparación así: \n",
    "## False == tu variable booleana"
   ]
  },
  {
   "cell_type": "code",
   "execution_count": 25,
   "metadata": {},
   "outputs": [
    {
     "name": "stdout",
     "output_type": "stream",
     "text": [
      "False\n",
      "True\n"
     ]
    }
   ],
   "source": [
    "print(not a) # a es True, así que not True = False, pregunta que hace es (False == True)\n",
    "print(not b) # b es False, así que not False = True, pregunta que hace es (False == False)"
   ]
  },
  {
   "cell_type": "markdown",
   "metadata": {},
   "source": [
    "# Puedes revisar esta página para mas operadores lógicos y otros operadores\n",
    "## [Operadores lógicos](https://www.programiz.com/python-programming/operators#logical)"
   ]
  },
  {
   "cell_type": "markdown",
   "metadata": {},
   "source": [
    "# Iterar \n",
    "## Vamos a usar elementos mas dinámicos en nuestras variables, \n",
    "## vamos a iterar, eso es revisar cada elemento de un grupo uno por uno asignandole a una variable temporal su valor\n",
    "## por ejemplo:\n",
    "## en una lista que llamaremos `group = [\"hello\", \"world\", \"bye\", \"world\"]`\n",
    "## Si escribimos `for i in group:` i tomará el valor de cada una de estas variables en el orden en el que están en la lista\n",
    "## Como en un sing along cuando la pelota rebota en cada palabra, toma el valor de esa palabra\n",
    "## Se repite tantas veces como haya elementos en la lista antes de seguir con lo que viene después de este código\n",
    "```python\n",
    "for i in group:\n",
    "    print i\n",
    "```\n"
   ]
  },
  {
   "cell_type": "code",
   "execution_count": 38,
   "metadata": {},
   "outputs": [
    {
     "name": "stdout",
     "output_type": "stream",
     "text": [
      "hello\n",
      "world\n",
      "bye\n",
      "world\n"
     ]
    }
   ],
   "source": [
    "group = [\"hello\", \"world\", \"bye\", \"world\"]\n",
    "for i in group: # se hará lo que viene después del \":\"\n",
    "    print(i) # debe tener 4 espacios o un tab (1 tab = 4 espacios) antes para que el interpretador sepa que esto es parte de lo anterior"
   ]
  },
  {
   "cell_type": "code",
   "execution_count": 39,
   "metadata": {},
   "outputs": [
    {
     "name": "stdout",
     "output_type": "stream",
     "text": [
      "hello \n",
      "hello world \n",
      "hello world bye \n",
      "hello world bye world \n",
      "hello world bye world \n"
     ]
    }
   ],
   "source": [
    "hiBye = \"\"\n",
    "for i in group:\n",
    "    hiBye = hiBye + i + \" \" # le decios que queremos que hiBye sea igual al valor anterior mas el valor de i y un espacio en blanco\n",
    "    print(hiBye) # Como tiene 4 espacios antes es parte de lo de arriba\n",
    "print(hiBye) # No tiene espacio por lo que se asume que no es parte de for i in group:"
   ]
  },
  {
   "cell_type": "code",
   "execution_count": 44,
   "metadata": {},
   "outputs": [
    {
     "name": "stdout",
     "output_type": "stream",
     "text": [
      "hey 0\n",
      "hey 1\n",
      "hey 2\n",
      "hey 3\n",
      "hey 4\n",
      "hey 5\n",
      "hey 6\n",
      "hey 7\n",
      "hey 8\n",
      "hey 9\n",
      "hey 10\n",
      "hey 11\n",
      "hey 12\n",
      "hey 13\n",
      "hey 14\n",
      "hey 15\n",
      "hey 16\n",
      "hey 17\n",
      "hey 18\n",
      "hey 19\n"
     ]
    }
   ],
   "source": [
    "# También podemos usar un rango\n",
    "for i in range(20):\n",
    "    print(\"hey\", i) # nos imprimirá 20 veces esto porque nuestro rango tiene 20 elementos del 0 al 19"
   ]
  },
  {
   "cell_type": "markdown",
   "metadata": {},
   "source": [
    "# Aquí termina esta primera parte introductoria\n",
    "## En próximos tutoriales pueden aprender sobre:\n",
    "##   - Funciones\n",
    "##   - Mas grupos de variables (Dictionary y Tuple)\n",
    "##   - Visualizar Data con matplotlib (matrix plotting library, basado en MATLAB)"
   ]
  },
  {
   "cell_type": "code",
   "execution_count": null,
   "metadata": {},
   "outputs": [],
   "source": []
  }
 ],
 "metadata": {
  "kernelspec": {
   "display_name": "Python 3",
   "language": "python",
   "name": "python3"
  },
  "language_info": {
   "codemirror_mode": {
    "name": "ipython",
    "version": 3
   },
   "file_extension": ".py",
   "mimetype": "text/x-python",
   "name": "python",
   "nbconvert_exporter": "python",
   "pygments_lexer": "ipython3",
   "version": "3.7.3"
  }
 },
 "nbformat": 4,
 "nbformat_minor": 2
}
