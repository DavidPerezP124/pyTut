{
 "cells": [
  {
   "cell_type": "markdown",
   "metadata": {},
   "source": [
    "# Python es el lenguaje mas popular para empezar a aprender a programar por su simplicidad, su portabilidad y sus multiples usos como: desarrollo de web apps, programas para PC, machine learning, investigación científica, visualización de data, robótica, juegos etc... \n",
    "# básicamente cualquier cosa que quieras hacer en programación lo puedes hacer con Python. \n",
    "# Pero al fin y al cabo como todos los lenguajes, es solo una de varias herramientas que te serán de utilidad a medida que aprendes mas sobre programación. "
   ]
  },
  {
   "cell_type": "markdown",
   "metadata": {},
   "source": [
    "# Esto es un ambiente portátil llamado Jupyter Notebook, que te permite seccionar el código de Python por partes llamadas: celdas; y agregar comentario de este tipo para guiar a quien lee este Notebook.\n",
    "# Esta versión de este documento es tuya así que puedes romperlo, equivocarte, editarlo, usarlo para probar porque no afecta a nadie ni nada. Si ves que lo dañaste mucho y ya no sirve, solo vuelve al github y abre uno nuevo. \n",
    "# Si ves estas letras en azul solo presiona shift + Enter"
   ]
  },
  {
   "cell_type": "markdown",
   "metadata": {},
   "source": [
    "## Te estarás preguntando ¿Cómo y donde se escribe esto?\n",
    "## Para Tutoriales y trabajos de investigación de Python el mejor medio es este: un Notebook.\n",
    "## Por ahora no es necesario saber como crearlo.\n",
    "## Python es un lenguaje de alto nivel, es decir que escribes con palabras en inglés y no en hex o binario, pero lo debe interpretar un programa para que le diga a tu computadora qué tiene que hacer. \n",
    "## Es decir este es un lenguaje \"interpretado\" no \"compilado\" como otros, quiere decir que usamos un interpretador para leer nuestro código.\n",
    "## Hay varias formas de escribir e interpretar Python:\n",
    "## Se puede escribir en un notepad, textEdit, notebook, consola, etc y debes tener un interpretador de python en tu máquina ya sea como command line tool o como programa ejecutable (como IDLE: Integrated Development and Learning Environment).\n",
    "## La tercera opción:  un Notebook como este; que es un medio interactivo para usar este lenguaje, que no requiere bajar un interpretador y puedes comenzar a programar de inmediato."
   ]
  },
  {
   "cell_type": "markdown",
   "metadata": {},
   "source": [
    "## Para saber mas sobre donde y cómo bajar un interpretador puedes seguir este getting started de Python.org pero puedes continuar sin problema no necesitas mas que este Notebook para aprender algunas cosas básicas: \n",
    "## [getting started](https://www.python.org/about/gettingstarted/)\n",
    "## Dicho esto, unas palabras antes de comenzar: \n",
    "##  - Mito: Solo una persona que creció usando computadoras e hizo su primer programa en primaria para la NASA es un verdadero programador\n",
    "##  - Verdad: Cualquier persona indiferentemente de su background o educación puede aprender a programar y usar las computadoras para facilitarle su día a día, investigar, trabajar, crear programas que puede vender, etc. No existe un coding gene. \n",
    "##  - Mito:  Aprender a programar requiere mucho tiempo.\n",
    "##  - Verdad: Aprender a programar solo requiere el tiempo que quieras usar para aprenderlo, no necesitas un Master Degree de Computer Science de Harvard para aprender, o dedicarte 18 h al día a aprender, todo lo contrario debes tomar descansos frecuentes, practicar de vez en cuando y mas importante disfrútalo. Es un proceso creativo.\n",
    "##  - Mito:  Necesito ser un genio para poder programar.\n",
    "##  - Verdad: Solo necesitas el interés de aprender\n",
    "##  - Mito: En mi área puede que no me sea de mucha ayuda\n",
    "##  - Verdad:  Si trabajas con cualquier tipo de información, te puede ser de utilidad y darte una ventaja sobre tus colegas o mejor aún ahorrarte tiempo "
   ]
  },
  {
   "cell_type": "markdown",
   "metadata": {},
   "source": [
    "# Intro a programación\n",
    "## los elementos que debes aprender sobre cualquier lenguaje son:\n",
    "## 1. ¿Cómo y para qué puedo usarlo?\n",
    "## 2. ¿Qué es una variable?\n",
    "## 3. ¿Cómo declarar una variable?\n",
    "## 4. Ritual de código: imprimir mi primer Hello World // Primer paso de cualquier lenguaje que aprendas\n"
   ]
  },
  {
   "cell_type": "markdown",
   "metadata": {},
   "source": [
    "## Hay una GRAN variedad de recursos para aprender diferentes aspectos de Python. Puedes revisar algunos de estos:\n",
    "## Algunos de los muchos usos:\n",
    "## [¿Dónde se puede usar python?](https://www.python.org/about/apps/)\n",
    "## [¿Qué mas puedo hacer con Python?](https://realpython.com/what-can-i-do-with-python/)\n",
    "## [El famoso \"Automating the boring stuff\", versión Web gratis](https://automatetheboringstuff.com/) : También contiene información para comenzar. Eventualmente puedes aprender a revisar y analizar archivos Word, PDF, excel, páginas Web, etc de manera automática. "
   ]
  },
  {
   "cell_type": "markdown",
   "metadata": {},
   "source": [
    "# Manos a la obra:\n",
    "## ¿Qué son variables?!\n",
    "## Las variables nos permiten asignarle un nombre a un valor, como una etiqueta para darle seguimiento a este valor y poder usarla varias veces.\n",
    "## e.g:\n",
    "### Esto :"
   ]
  },
  {
   "cell_type": "code",
   "execution_count": 17,
   "metadata": {},
   "outputs": [
    {
     "data": {
      "text/plain": [
       "0.6666666666666666"
      ]
     },
     "execution_count": 17,
     "metadata": {},
     "output_type": "execute_result"
    }
   ],
   "source": [
    "20 + 20 # debes usar tu propia memoria si no usas una variable\n",
    "40 / 60 # Esta operación no afecta a la anterior porque no hay relación entre ellas"
   ]
  },
  {
   "cell_type": "markdown",
   "metadata": {},
   "source": [
    "### Es Diferente a esto: "
   ]
  },
  {
   "cell_type": "markdown",
   "metadata": {},
   "source": [
    "Corre el código abajo para ver como funcionar"
   ]
  },
  {
   "cell_type": "code",
   "execution_count": 40,
   "metadata": {
    "scrolled": true
   },
   "outputs": [
    {
     "name": "stdout",
     "output_type": "stream",
     "text": [
      "20 20\n",
      "40\n",
      "60\n"
     ]
    },
    {
     "data": {
      "text/plain": [
       "2400"
      ]
     },
     "execution_count": 40,
     "metadata": {},
     "output_type": "execute_result"
    }
   ],
   "source": [
    "a = 20 # Usas la memoria de la computadora para guardar este valor\n",
    "b = 20 \n",
    "print(a, b) # Usamos print( ) para mostrar el valor de lo que introducimos dentro del paréntesis\n",
    "# recuerda que las funciones y las variables son todas en minúsculas \n",
    "# Puedes agregar mas de una variable si usas una coma \",\"\n",
    "\n",
    "a + b # No tienes que recordar que esto vale 20\n",
    "a = a + b  # Puedes re-asignarle valor a esto si quieres, en este caso \"a\" va a ser igual a la suma 20 + 20 \n",
    "print(a) \n",
    "b = a + b  # Igualmente ahora que a tiene el valor 40, b va a ser igual a 40 + 20\n",
    "print(b)\n",
    "a - b  \n",
    "a / b  # / se usa para dividir\n",
    "a * b # * se usa para multiplicar\n",
    "# Tip: Puedes usar estos mismos símbolos en tu search bar de navegador para usar la calculadora de tu browser"
   ]
  },
  {
   "cell_type": "markdown",
   "metadata": {},
   "source": [
    "### Para correr el código solo debes hacerle click a la celda y presionar  `Run` ^ en el toolbar o shift + Enter"
   ]
  },
  {
   "cell_type": "code",
   "execution_count": 39,
   "metadata": {},
   "outputs": [
    {
     "name": "stdout",
     "output_type": "stream",
     "text": [
      "Hello World\n",
      "Hello World\n"
     ]
    }
   ],
   "source": [
    "hello = \"Hello World\"\n",
    "print(hello) #La función print() te muestra en la consola el valor en texto de esta variable\n",
    "# También puedes escribir el String directamente en tu print()\n",
    "print(\"Hello World\")\n",
    "# Borra todas líneas e inténtalo tu"
   ]
  },
  {
   "cell_type": "markdown",
   "metadata": {},
   "source": [
    "# Como puedes ver, para declarar una variable solo tienes que escribir:\n",
    "## Las variables y funciones deben tener nombre en minúsculas.\n",
    "## El nombre de tu variable en \"snake_case\" si tuviera mas de una palabra (juego de palabras como en inglés se usa lowercase para minúsculas y Uppercase para mayúsculas ) \n",
    "## Solo quiere decir que las palabras van separadas por un \"_\"  de la siguiente forma: \n",
    "## soy_una_variable = 2\n",
    "## usando un \"=\" (operador de asignación de valor) para asignarle un valor\n",
    "## de la siguiente forma:\n",
    "```python \n",
    "variable = \"Este valor es un String\"\n",
    "variable = 2  <== Esto es un Int\n",
    "variable = 0.2 <== Esto es un Float (Decimal)\n",
    "variable = True <== Esto es un Bool solo puede ser true o false\n",
    "```"
   ]
  },
  {
   "cell_type": "code",
   "execution_count": 37,
   "metadata": {},
   "outputs": [
    {
     "name": "stdout",
     "output_type": "stream",
     "text": [
      "Este valor es un String  / Este otro valor también es un String\n",
      "<class 'str'>\n",
      "4\n",
      "<class 'int'>\n",
      "0.4\n",
      "<class 'float'>\n",
      "True\n",
      "<class 'bool'>\n"
     ]
    }
   ],
   "source": [
    "# usando numeral o hashtag podemos agregar un comentario, es decir un texto que el interpretador no puede ver\n",
    "# Y lo usamos para describir (de ser necesario) nuestro código\n",
    "\n",
    "variable = \"Este valor es un String \" # Esto es un String = texto, str es corto para String\n",
    "variable_two = \"Este otro valor también es un String\"\n",
    "variable = variable + \" / \" + variable_two # Sumar texto? Si, se puede agregar un texto a otro usando + \n",
    "print(variable) \n",
    "print(type(variable)) # type() es una función que te permite ver el Type de la variable\n",
    "\n",
    "variable = 2 #Esto es un Int = Un número entero = Un número positivo o negativo sin decimales\n",
    "variable = variable + variable\n",
    "print(variable) # Imprime este valor de variable\n",
    "print(type(variable)) # type() es una función que te permite ver el Type de la variable\n",
    "\n",
    "variable = 0.2 #Esto es un Float (que tiene decimales) Es decir punto Flotante = con decimales\n",
    "variable = variable + variable\n",
    "print(variable)  # Imprime este valor de variable\n",
    "print(type(variable)) # type() es una función que te permite ver el Type de la variable\n",
    "\n",
    "variable = True #Esto es un Bool solo puede ser true o false\n",
    "print(variable)  # Imprime este valor de variable\n",
    "print(type(variable)) # type() es una función que te permite ver el Type de la variable\n",
    "\n",
    "# Debes tener 3 valores completamente diferentes aquí abajo "
   ]
  },
  {
   "cell_type": "markdown",
   "metadata": {},
   "source": [
    "# Ahora te toca a ti\n",
    "## Escribe variables e imprime su valor:\n",
    "### - Escribe un par de variables cuya suma resulte en 4\n",
    "### - Escribe una variable que contenga tu nombre\n",
    "### - Escribe una variable que diga Hello World\n"
   ]
  },
  {
   "cell_type": "code",
   "execution_count": 3,
   "metadata": {},
   "outputs": [],
   "source": [
    "# Escribe tu código aquí"
   ]
  },
  {
   "cell_type": "markdown",
   "metadata": {},
   "source": [
    "# Operaciones simples\n",
    "## Sumar con +\n",
    "## Restar con -\n",
    "## Dividir con /\n",
    "## Multiplicar con *\n",
    "### Prueba cada una"
   ]
  },
  {
   "cell_type": "code",
   "execution_count": null,
   "metadata": {},
   "outputs": [],
   "source": []
  },
  {
   "cell_type": "markdown",
   "metadata": {},
   "source": [
    "# Palabras reservadas:\n",
    "## Hay palabras que no puedes usar en el nombre de tu variable porque el interpretador las usa para saber que debe hacer, que son: \n",
    "### and, as, assert, break, class, continue, def, del, elif, else, except, \n",
    "### exec, finally, for, from, global, if, import, in, is, lambda, not, or,\n",
    "### pass, print, raise, return, try, while, with, yield"
   ]
  },
  {
   "cell_type": "code",
   "execution_count": 32,
   "metadata": {},
   "outputs": [],
   "source": [
    "# Intenta declarar una variable con una palabra reservada y corre tu código\n"
   ]
  },
  {
   "cell_type": "markdown",
   "metadata": {},
   "source": [
    "# Lists\n",
    "## Grupos de variables\n",
    "![alt text](Lists.jpeg)\n",
    "\n",
    "### Nos permite guardar una serie de variables dentro de otra variable\n",
    "\n",
    "```python\n",
    "musical_notes_syllables = [\"do\", \"re\", \"mi\", \"fa\", \"sol\", \"la\", \"si\"]\n",
    "musical_notes_letters = [\"C\", \"D\", \"E\", \"F\", \"G\", \"A\", \"B\"]\n",
    "musical_notes_Hz_4 = [261.6256, 293.6648, 329.6276, 349.2282, 391.9954, 440.0000, 493.8833]\n",
    "```\n"
   ]
  },
  {
   "cell_type": "code",
   "execution_count": 36,
   "metadata": {},
   "outputs": [],
   "source": [
    "musical_notes_syllables = [\"do\", \"re\", \"mi\", \"fa\", \"sol\", \"la\", \"si\"] # una lista de Strings\n",
    "musical_notes_letters = [\"C\", \"D\", \"E\", \"F\", \"G\", \"A\", \"B\"]\n",
    "musical_notes_Hz_4 = [261.6256, 293.6648, 329.6276, 349.2282, 391.9954, 440.0000, 493.8833] # una lista de float"
   ]
  },
  {
   "cell_type": "markdown",
   "metadata": {},
   "source": [
    "# Pero y si solo quieres el segundo elemento de un List\n",
    "## puedes usar algo que se llama subscript method, quiere decir que es un método sin nombre y se usa con \"[ ]\" de la siguiente forma:\n",
    "```python \n",
    "musical_notes_letters[1]\n",
    "```\n",
    "## Si imprimimos este valor ¿Cuál nota crees que nos regresa?\n",
    "## Exactamente...'D' la... segunda?? 😂:\n",
    "### en la mayoría de los lenguajes las listas comienzan con 0\n",
    "### es decir 0 es el primer elemento y 1 el segundo elemento"
   ]
  },
  {
   "cell_type": "code",
   "execution_count": 6,
   "metadata": {},
   "outputs": [
    {
     "name": "stdout",
     "output_type": "stream",
     "text": [
      "D\n"
     ]
    }
   ],
   "source": [
    "print(musical_notes_letters[1])"
   ]
  },
  {
   "cell_type": "markdown",
   "metadata": {},
   "source": [
    "# ¿Y si queremos el último elemento?\n",
    "## ¿Tengo que saber cuántos elementos tiene la lista? \n",
    "### No, se puede acceder al último si le damos la vuelta a la lista hacia atrás\n",
    "### Diciendole al interpretador, quiero el elemento que viene antes de 0, y este te regresa el últmo\n",
    "\n",
    "```python\n",
    "musical_notes_syllables[-1]\n",
    "```\n",
    "\n",
    "![alt text](listRev.jpg)"
   ]
  },
  {
   "cell_type": "code",
   "execution_count": 15,
   "metadata": {},
   "outputs": [
    {
     "name": "stdout",
     "output_type": "stream",
     "text": [
      "si\n",
      "la\n",
      "sol\n"
     ]
    }
   ],
   "source": [
    "print(musical_notes_syllables[-1])\n",
    "print(musical_notes_syllables[-2])\n",
    "print(musical_notes_syllables[-3])"
   ]
  },
  {
   "cell_type": "markdown",
   "metadata": {},
   "source": [
    "# ¿Y si queremos una porción? \n",
    "## Un slice\n",
    "\n",
    "```python\n",
    "pizza = [1,2,3,4,5,6,7,8] # una pizza con 8 porciones\n",
    "````\n",
    "### Pero vi que del 3 al 5 tiene mas pepperoni, así que apartaré esas porciones antes de llevarla a casa "
   ]
  },
  {
   "cell_type": "code",
   "execution_count": 8,
   "metadata": {},
   "outputs": [
    {
     "name": "stdout",
     "output_type": "stream",
     "text": [
      "[1, 2, 3, 4, 5, 6, 7, 8]\n",
      "[3, 4, 5]\n"
     ]
    }
   ],
   "source": [
    "pizza = [1,2,3,4,5,6,7,8] \n",
    "mySlices = pizza[2:5]\n",
    "print(pizza)\n",
    "print(mySlices)"
   ]
  },
  {
   "cell_type": "markdown",
   "metadata": {},
   "source": [
    "# Esto se llama Slicing\n",
    "## Como puedes ver, si queremos una porción usamos una función que tiene esta forma `[límite inferior: límite superior]` y se usa solo poniendo los brackets después de tu lista asi: list[1:3]\n",
    "## El límite inferior es como un escalón del cual empiezas a contar, es decir no lo incluimos en el resultado, pero si contamos último escalón del slice\n",
    "## Descripción gráfica:\n",
    "![alt text](slicing.jpg)"
   ]
  },
  {
   "cell_type": "markdown",
   "metadata": {},
   "source": [
    "Tambien podemos usar el último con -1"
   ]
  },
  {
   "cell_type": "code",
   "execution_count": 9,
   "metadata": {},
   "outputs": [
    {
     "name": "stdout",
     "output_type": "stream",
     "text": [
      "[3, 4, 5, 6, 7, 8]\n",
      "[3, 4, 5, 6, 7]\n"
     ]
    }
   ],
   "source": [
    "print(pizza[2:8]) # Si sabemos cuantos elementos tiene podemos simplemente hacer esto\n",
    "print(pizza[2:-1]) # Con este formato nos exluye el límite superior"
   ]
  },
  {
   "cell_type": "code",
   "execution_count": 10,
   "metadata": {},
   "outputs": [
    {
     "data": {
      "text/plain": [
       "8"
      ]
     },
     "execution_count": 10,
     "metadata": {},
     "output_type": "execute_result"
    }
   ],
   "source": [
    "len(pizza) # len() nos dice cuántos elementos contiene esta lista"
   ]
  },
  {
   "cell_type": "code",
   "execution_count": 11,
   "metadata": {},
   "outputs": [
    {
     "name": "stdout",
     "output_type": "stream",
     "text": [
      "[3, 4, 5, 6, 7, 8]\n"
     ]
    }
   ],
   "source": [
    "#Podemos hacer esto\n",
    "print(pizza[2: len(pizza)]) "
   ]
  },
  {
   "cell_type": "markdown",
   "metadata": {},
   "source": [
    "# Vamos a agregarle mas pizza a nuestra pizza"
   ]
  },
  {
   "cell_type": "code",
   "execution_count": 13,
   "metadata": {},
   "outputs": [
    {
     "name": "stdout",
     "output_type": "stream",
     "text": [
      "[1, 2, 3, 4, 5, 6, 7, 8, 9, 'slice', 'slice', 'potato chips', 9, 'slice', 'slice', 'french fries']\n"
     ]
    }
   ],
   "source": [
    "pizza.append(9) # le agrega un valor al final de la lista\n",
    "pizza.append(\"slice\") # Hasta elementos de otro tipo\n",
    "pizza.append(\"slice\")\n",
    "pizza.append(\"french fries\") # Ya se nos fue la mano\n",
    "print(pizza)"
   ]
  },
  {
   "cell_type": "markdown",
   "metadata": {},
   "source": [
    "# Ya suficiente Pizza\n",
    "# Ahora vamos con la verdad\n",
    "![alt text](truth.jpg)"
   ]
  },
  {
   "cell_type": "markdown",
   "metadata": {},
   "source": [
    "## Podemos usar booleanos (al que solo tiene 2 estados como 1 y 0 en binario)\n",
    "## Para hacer argumentos de lógica\n",
    "## Usando preguntas de lógica básica como:\n",
    "## Estas dos cosas son iguales usando : ==\n",
    "## Esto no es igual a esto usando: != \n",
    "## Este número es mayor a este o menor: > , < \n",
    "## Igual o menor, igual o mayor: <= , =>\n"
   ]
  },
  {
   "cell_type": "code",
   "execution_count": 17,
   "metadata": {},
   "outputs": [
    {
     "name": "stdout",
     "output_type": "stream",
     "text": [
      "a == 2 es: True\n",
      "a != b es: True\n",
      "a < b es: True\n",
      "a > b es: False\n",
      "a <= b es: True\n",
      "a >= b es: False\n"
     ]
    }
   ],
   "source": [
    "#Usemos estos operadores\n",
    "a = 2\n",
    "b = 3\n",
    "print('a == 2 es:', a == 2)\n",
    "print('a != b es:',a != b)\n",
    "print('a < b es:', a < b)\n",
    "print('a > b es:',a > b)\n",
    "print('a <= b es:',a <= b)\n",
    "print('a >= b es:', a >= b)"
   ]
  },
  {
   "cell_type": "markdown",
   "metadata": {},
   "source": [
    "# Pero también podemos usarlo como un tipo de variable \n",
    "## usando True o False"
   ]
  },
  {
   "cell_type": "code",
   "execution_count": 19,
   "metadata": {},
   "outputs": [
    {
     "name": "stdout",
     "output_type": "stream",
     "text": [
      "False\n",
      "True\n"
     ]
    }
   ],
   "source": [
    "a = True\n",
    "b = False\n",
    "print(a == b)\n",
    "print(a != b)"
   ]
  },
  {
   "cell_type": "markdown",
   "metadata": {},
   "source": [
    "# También podemos preguntar con AND y OR\n",
    "# And: Quiere decir que si ambas preguntas son verdad, entonces dime True\n",
    "# Or: Quiere decir que si cualquiera de las dos o mas preguntas son verdad, entonces dime True"
   ]
  },
  {
   "cell_type": "code",
   "execution_count": 22,
   "metadata": {},
   "outputs": [
    {
     "name": "stdout",
     "output_type": "stream",
     "text": [
      "False\n",
      "True\n"
     ]
    }
   ],
   "source": [
    "# la usamos de la siguiente manera\n",
    "# usando a y b de la celda anterior ^\n",
    "print(a and b) # Preguntamos si ambos son True entonces pasa la prueba\n",
    "print(a or b)  # Preguntamos si alguno es True entonces pasa la prueba"
   ]
  },
  {
   "cell_type": "markdown",
   "metadata": {},
   "source": [
    "## Otro operador es Not\n",
    "## Es como un doble negativo, si esto no es True entonces dime True\n",
    "## Se usa solo, porque tiene un False implícito como comparación así: \n",
    "## False == tu variable booleana"
   ]
  },
  {
   "cell_type": "code",
   "execution_count": 25,
   "metadata": {},
   "outputs": [
    {
     "name": "stdout",
     "output_type": "stream",
     "text": [
      "False\n",
      "True\n"
     ]
    }
   ],
   "source": [
    "print(not a) # a es True, así que not True = False, pregunta que hace es (False == True)\n",
    "print(not b) # b es False, así que not False = True, pregunta que hace es (False == False)"
   ]
  },
  {
   "cell_type": "markdown",
   "metadata": {},
   "source": [
    "# Puedes revisar esta página para mas operadores lógicos y otros operadores\n",
    "## [Operadores lógicos](https://www.programiz.com/python-programming/operators#logical)"
   ]
  },
  {
   "cell_type": "markdown",
   "metadata": {},
   "source": [
    "# Iterar \n",
    "## Vamos a usar elementos mas dinámicos con nuestras variables.\n",
    "## vamos a iterar, eso es revisar cada elemento de un grupo uno por uno asignandole a una variable temporal su valor\n",
    "## por ejemplo:\n",
    "## en una lista que llamaremos `group = [\"hello\", \"world\", \"bye\", \"world\"]`\n",
    "## Si escribimos `for i in group:` i tomará el valor de cada una de estas variables en el orden en el que están en la lista\n",
    "## Como en un sing along cuando la pelota rebota en cada palabra, toma el valor de esa palabra\n",
    "## Se repite tantas veces como haya elementos en la lista antes de seguir con lo que viene después de este código\n",
    "## Descripción gráfica: con \n",
    "## lista_de_Strings = `['ha', 'he', 'hi', 'ho', 'hu', 'hb', 'hc' ]`\n",
    "## \"for i in lista_de_Strings:\" va a hacer esto:\n",
    "![alt text](iterate.jpg)\n",
    "### 'i' va saltando de variable en variable asumiendo su valor, hasta que se acabe la lista\n",
    "```python\n",
    "for i in group:\n",
    "    print i # Cuando se tiene que hacer algo en este elemento debe tener 4 espacios MAS que el objeto que lo contiene\n",
    "```\n",
    "Es igual que esto en otro lenguaje, pero Python no usa \"{ }\" solo \":\" \n",
    "```swift\n",
    "// En Swift, que es un lenguaje diferente\n",
    "for i in group{\n",
    "    print i\n",
    "}\n",
    "```\n",
    "# \"i\" es solo un nombre corto y simple, podrías usar cualquier palabra en vez de i. Si es un tipo de elemento mas explícito es recomendable usar un nombre mas descriptivo. Por ejemplo si es una lista de nombres de países: \n",
    "\n",
    "```python\n",
    "for country in countries:\n",
    "    print(country)\n",
    "```"
   ]
  },
  {
   "cell_type": "code",
   "execution_count": 7,
   "metadata": {},
   "outputs": [
    {
     "name": "stdout",
     "output_type": "stream",
     "text": [
      "hello\n",
      "world\n",
      "bye\n",
      "world\n"
     ]
    }
   ],
   "source": [
    "group = [\"hello\", \"world\", \"bye\", \"world\"]\n",
    "for i in group: # se hará lo que viene después del \":\"\n",
    "    print(i) # debe tener 4 espacios o un tab (1 tab = 4 espacios) antes para que el interpretador sepa que esto es parte de lo anterior"
   ]
  },
  {
   "cell_type": "code",
   "execution_count": 8,
   "metadata": {},
   "outputs": [
    {
     "name": "stdout",
     "output_type": "stream",
     "text": [
      "hello \n",
      "hello world \n",
      "hello world bye \n",
      "hello world bye world \n",
      "hello world bye world \n"
     ]
    }
   ],
   "source": [
    "hiBye = \"\"\n",
    "for i in group:\n",
    "    hiBye = hiBye + i + \" \" # le decios que queremos que hiBye sea igual al valor anterior mas el valor de i y un espacio en blanco\n",
    "    print(hiBye) # Como tiene 4 espacios antes es parte de lo de arriba\n",
    "print(hiBye) # No tiene espacio por lo que se asume que no es parte de for i in group:"
   ]
  },
  {
   "cell_type": "code",
   "execution_count": 9,
   "metadata": {},
   "outputs": [
    {
     "name": "stdout",
     "output_type": "stream",
     "text": [
      "hey 0\n",
      "hey 1\n",
      "hey 2\n",
      "hey 3\n",
      "hey 4\n",
      "hey 5\n",
      "hey 6\n",
      "hey 7\n",
      "hey 8\n",
      "hey 9\n",
      "hey 10\n",
      "hey 11\n",
      "hey 12\n",
      "hey 13\n",
      "hey 14\n",
      "hey 15\n",
      "hey 16\n",
      "hey 17\n",
      "hey 18\n",
      "hey 19\n"
     ]
    }
   ],
   "source": [
    "# También podemos usar un rango\n",
    "for i in range(20):\n",
    "    print(\"hey\", i) # nos imprimirá 20 veces esto porque nuestro rango tiene 20 elementos del 0 al 19"
   ]
  },
  {
   "cell_type": "markdown",
   "metadata": {},
   "source": [
    "# Aquí termina esta primera parte introductoria\n",
    "## En próximos tutoriales puedes aprender sobre:\n",
    "##   - Funciones\n",
    "##   - Mas grupos de variables (Dictionary y Tuple)\n",
    "##   - Importar librerías\n",
    "##   - Visualizar Data con matplotlib (matrix plotting library, basado en MATLAB)"
   ]
  },
  {
   "cell_type": "markdown",
   "metadata": {},
   "source": [
    "## Aquí dejo un link para una gran variedad de ejemplos de Notebooks:\n",
    "## Por ahora la mayoría de estos van mas allá de lo básico, pero puede aumentar tu curiosidad sobre lo que se puede hacer con este lenguaje\n",
    "## [Notebooks de interés](https://github.com/jupyter/jupyter/wiki/A-gallery-of-interesting-Jupyter-Notebooks) muchos se centran en ciencia pero es solo uno de los muchos usos.\n",
    "## Por ejemplo específicamente para data análisis: // Revisar una gran cantidad de información de manera rápida y obtener información útil\n",
    "##  [Estadística y Data Science](https://github.com/jupyter/jupyter/wiki/A-gallery-of-interesting-Jupyter-Notebooks#statistics-machine-learning-and-data-science)\n",
    "## Intro a Python y Data science:\n",
    "## [Intro a Programación y Data Science](https://nbviewer.jupyter.org/gist/rpmuller/5920182)"
   ]
  },
  {
   "cell_type": "code",
   "execution_count": null,
   "metadata": {},
   "outputs": [],
   "source": []
  }
 ],
 "metadata": {
  "kernelspec": {
   "display_name": "Python 3",
   "language": "python",
   "name": "python3"
  },
  "language_info": {
   "codemirror_mode": {
    "name": "ipython",
    "version": 3
   },
   "file_extension": ".py",
   "mimetype": "text/x-python",
   "name": "python",
   "nbconvert_exporter": "python",
   "pygments_lexer": "ipython3",
   "version": "3.7.3"
  }
 },
 "nbformat": 4,
 "nbformat_minor": 2
}
